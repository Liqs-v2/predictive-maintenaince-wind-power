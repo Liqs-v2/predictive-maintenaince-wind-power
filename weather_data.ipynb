{
 "cells": [
  {
   "cell_type": "code",
   "id": "initial_id",
   "metadata": {
    "collapsed": true,
    "ExecuteTime": {
     "end_time": "2024-04-27T15:08:10.649980Z",
     "start_time": "2024-04-27T15:08:10.633854Z"
    }
   },
   "source": [
    "import os\n",
    "import zipfile\n",
    "import pandas as pd\n",
    "from tqdm import tqdm\n",
    "\n",
    "from selenium import webdriver\n",
    "from selenium.webdriver.common.by import By\n",
    "from selenium.webdriver.support.wait import WebDriverWait\n",
    "from selenium.webdriver.support import expected_conditions\n",
    "from selenium.common.exceptions import NoSuchElementException\n",
    "from selenium.common.exceptions import StaleElementReferenceException\n",
    "from selenium.common import TimeoutException"
   ],
   "outputs": [],
   "execution_count": 11
  },
  {
   "metadata": {
    "ExecuteTime": {
     "end_time": "2024-04-27T15:05:46.010533Z",
     "start_time": "2024-04-27T15:05:45.997549Z"
    }
   },
   "cell_type": "code",
   "source": "schleswig_holstein_weather_station_ids = ['05516', '02564', '04466', '03032', '02115']",
   "id": "f13d5dff2a6659ad",
   "outputs": [],
   "execution_count": 3
  },
  {
   "metadata": {
    "ExecuteTime": {
     "end_time": "2024-04-27T15:05:46.026347Z",
     "start_time": "2024-04-27T15:05:46.010533Z"
    }
   },
   "cell_type": "code",
   "source": [
    "# Extract schleswig holstein wind data\n",
    "if os.path.exists('wind_data_historic/schleswig_holstein'):\n",
    "    print('Data have already been extracted. Aborting.')\n",
    "else:\n",
    "    for file in os.listdir('wind_data_historic/historical'):\n",
    "        if not file.endswith('.zip'):\n",
    "            continue\n",
    "        \n",
    "        weather_station_id = file.split('_')[2]\n",
    "        \n",
    "        if not (weather_station_id in schleswig_holstein_weather_station_ids):\n",
    "            continue\n",
    "        \n",
    "        with zipfile.ZipFile(f'wind_data_historic/historical/{file}', 'r') as zip_ref:\n",
    "            zip_ref.extractall(f'wind_data_historic/schleswig_holstein')"
   ],
   "id": "8485e06281f68f45",
   "outputs": [
    {
     "name": "stdout",
     "output_type": "stream",
     "text": [
      "Data have already been extracted. Aborting.\n"
     ]
    }
   ],
   "execution_count": 4
  },
  {
   "metadata": {},
   "cell_type": "markdown",
   "source": "Before continuing with the pre-processing and feature engineering, I will take a detour and look at the types of wind turbines in the data and their cut-in and cut-out speeds (ie. operational limits wrt wind speed).",
   "id": "f1907f5a1e6769f0"
  },
  {
   "metadata": {
    "ExecuteTime": {
     "end_time": "2024-04-27T15:05:48.487708Z",
     "start_time": "2024-04-27T15:05:48.449731Z"
    }
   },
   "cell_type": "code",
   "source": [
    "# Load tab separated file with wind turbine data\n",
    "wind_turbine_data = pd.read_csv('wind_turbine_data/2023-10-30.csv', sep=';', on_bad_lines='warn')"
   ],
   "id": "637861eb93f184e5",
   "outputs": [],
   "execution_count": 5
  },
  {
   "metadata": {
    "ExecuteTime": {
     "end_time": "2024-04-27T11:18:21.448113Z",
     "start_time": "2024-04-27T11:18:21.425298Z"
    }
   },
   "cell_type": "code",
   "source": "wind_turbine_data.info()",
   "id": "58c96e8e2660d38d",
   "outputs": [
    {
     "name": "stdout",
     "output_type": "stream",
     "text": [
      "<class 'pandas.core.frame.DataFrame'>\n",
      "RangeIndex: 3944 entries, 0 to 3943\n",
      "Data columns (total 19 columns):\n",
      " #   Column                Non-Null Count  Dtype \n",
      "---  ------                --------------  ----- \n",
      " 0   KREIS                 3944 non-null   object\n",
      " 1   GEMEINDE              3944 non-null   object\n",
      " 2   TYP                   3931 non-null   object\n",
      " 3   HERSTELLER            3944 non-null   object\n",
      " 4   NABENHOEHE            3916 non-null   object\n",
      " 5   ROTORDURCHMESSER      3915 non-null   object\n",
      " 6   SCHALLLEISTUNGSPEGEL  3725 non-null   object\n",
      " 7   LEISTUNG              3944 non-null   int64 \n",
      " 8   LEISTUNGSBEZUG        3944 non-null   object\n",
      " 9   OSTWERT               3944 non-null   int64 \n",
      " 10  NORDWERT              3944 non-null   int64 \n",
      " 11  GENEHMIGT_AM          3553 non-null   object\n",
      " 12  INBETRIEBNAHME        3157 non-null   object\n",
      " 13  STATUS                3944 non-null   object\n",
      " 14  BST_NR                3944 non-null   int64 \n",
      " 15  ANL_NR                3944 non-null   int64 \n",
      " 16  AKTENZEICHEN          3944 non-null   object\n",
      " 17  DATENDATUM            3944 non-null   object\n",
      " 18  DATENQUELLE           3944 non-null   object\n",
      "dtypes: int64(5), object(14)\n",
      "memory usage: 585.6+ KB\n"
     ]
    }
   ],
   "execution_count": 82
  },
  {
   "metadata": {},
   "cell_type": "markdown",
   "source": "Preprocess wind power plant type data to consolidate different data entries of the same type.",
   "id": "a1bd11fdfed3d2cf"
  },
  {
   "metadata": {
    "ExecuteTime": {
     "end_time": "2024-04-27T15:05:50.400320Z",
     "start_time": "2024-04-27T15:05:50.379165Z"
    }
   },
   "cell_type": "code",
   "source": "wind_turbine_data['TYP'] = wind_turbine_data['TYP'].str.replace(pat='([^a-zA-Z0-9 ]|wka|WKA|)', repl='', regex=True)",
   "id": "9cb9c2ecb0ed9771",
   "outputs": [],
   "execution_count": 6
  },
  {
   "metadata": {
    "ExecuteTime": {
     "end_time": "2024-04-27T15:05:50.633714Z",
     "start_time": "2024-04-27T15:05:50.612994Z"
    }
   },
   "cell_type": "code",
   "source": "wind_turbine_data['TYP'] = wind_turbine_data['TYP'].str.lower()",
   "id": "ab5754564bdf99ae",
   "outputs": [],
   "execution_count": 7
  },
  {
   "metadata": {
    "ExecuteTime": {
     "end_time": "2024-04-27T15:05:50.852759Z",
     "start_time": "2024-04-27T15:05:50.839759Z"
    }
   },
   "cell_type": "code",
   "source": "wind_turbine_data['TYP'] = wind_turbine_data['TYP'].str.strip()",
   "id": "da80a5d3bb7a382d",
   "outputs": [],
   "execution_count": 8
  },
  {
   "metadata": {
    "ExecuteTime": {
     "end_time": "2024-04-27T15:05:51.260239Z",
     "start_time": "2024-04-27T15:05:51.238418Z"
    }
   },
   "cell_type": "code",
   "source": "wind_turbine_data['TYP'] = wind_turbine_data['TYP'].str.replace(pat='^(typ|[0-9]+) ', repl='', regex=True)",
   "id": "18c89feb1813061d",
   "outputs": [],
   "execution_count": 9
  },
  {
   "metadata": {
    "ExecuteTime": {
     "end_time": "2024-04-27T15:36:54.737065Z",
     "start_time": "2024-04-27T15:20:40.728845Z"
    }
   },
   "cell_type": "code",
   "source": [
    "options = webdriver.FirefoxOptions()\n",
    "options.add_argument('-headless')\n",
    "\n",
    "driver = webdriver.Firefox(options=options)\n",
    "driver.get(\"https://en.wind-turbine-models.com/search?q=enercon+e70+e4+2.000\")\n",
    "\n",
    "ignored_exceptions = (NoSuchElementException, StaleElementReferenceException)\n",
    "\n",
    "# Reject cookies on first visit\n",
    "reject_cookies_button = driver.find_element(By.CLASS_NAME, 'cc-decline-all')\n",
    "\n",
    "wait = WebDriverWait(driver, 10)\n",
    "wait.until(lambda driver: reject_cookies_button.is_displayed() and reject_cookies_button.is_enabled())\n",
    "\n",
    "reject_cookies_button.click()\n",
    "\n",
    "for wind_turbine_type in tqdm(wind_turbine_data['TYP'].value_counts().index, desc='Scraping product specifications for wind turbine types in our dataset:'):\n",
    "    search_input = driver.find_element(By.CSS_SELECTOR, 'input.searchbar')\n",
    "    search_input.clear()\n",
    "    search_input.send_keys(wind_turbine_type)\n",
    "    search_input.submit()\n",
    "    \n",
    "    # Navigate to wind turbine results category\n",
    "    try:\n",
    "        turbine_category = WebDriverWait(driver, 10, ignored_exceptions=ignored_exceptions)\\\n",
    "                            .until(expected_conditions.visibility_of_element_located((By.XPATH, '//a[@href=\"#turbines\"]')))\n",
    "        turbine_category.click()\n",
    "    except TimeoutException:\n",
    "        continue\n",
    "    \n",
    "    # Click into detailed view of wind turbine\n",
    "    wind_turbine_link = WebDriverWait(driver, 10, ignored_exceptions=ignored_exceptions)\\\n",
    "                        .until(expected_conditions.visibility_of_element_located((By.XPATH, '//div[@id=\"turbines\"]/div/div/div[@class=\"section-body\"]/div[1]')))    \n",
    "    wind_turbine_link.click()\n",
    "    \n",
    "    wind_turbine_specification_rows = driver.find_elements(By.CSS_SELECTOR, '.tabbox-table > .row')\n",
    "    \n",
    "    data = []\n",
    "    wind_turbine_specification = []\n",
    "    for row in wind_turbine_specification_rows:\n",
    "        wind_turbine_specification = []\n",
    "        \n",
    "        label = row.find_element(By.CSS_SELECTOR, '.col-left').text\n",
    "        content = row.find_element(By.CSS_SELECTOR, '.col-right').text\n",
    "        \n",
    "        label = label.replace(':', '')\n",
    "        \n",
    "        wind_turbine_specification.append({label: content})\n",
    "    data.append({wind_turbine_type: wind_turbine_specification})\n",
    "        \n",
    "driver.quit()"
   ],
   "id": "de72ab8c8dfb8f95",
   "outputs": [
    {
     "name": "stderr",
     "output_type": "stream",
     "text": [
      "Scraping product specifications for wind turbine types in our dataset::  12%|█▏        | 98/801 [16:06<1:55:34,  9.86s/it]\n"
     ]
    },
    {
     "ename": "ElementClickInterceptedException",
     "evalue": "Message: Element <a class=\"btn btn-default\" href=\"#turbines\"> is not clickable at point (551,85) because another element <span> obscures it\nStacktrace:\nRemoteError@chrome://remote/content/shared/RemoteError.sys.mjs:8:8\nWebDriverError@chrome://remote/content/shared/webdriver/Errors.sys.mjs:193:5\nElementClickInterceptedError@chrome://remote/content/shared/webdriver/Errors.sys.mjs:337:5\nwebdriverClickElement@chrome://remote/content/marionette/interaction.sys.mjs:176:11\ninteraction.clickElement@chrome://remote/content/marionette/interaction.sys.mjs:135:11\nclickElement@chrome://remote/content/marionette/actors/MarionetteCommandsChild.sys.mjs:204:29\nreceiveMessage@chrome://remote/content/marionette/actors/MarionetteCommandsChild.sys.mjs:84:31\n",
     "output_type": "error",
     "traceback": [
      "\u001B[1;31m---------------------------------------------------------------------------\u001B[0m",
      "\u001B[1;31mElementClickInterceptedException\u001B[0m          Traceback (most recent call last)",
      "\u001B[1;32m~\\AppData\\Local\\Temp\\ipykernel_33468\\996482377.py\u001B[0m in \u001B[0;36m<module>\u001B[1;34m\u001B[0m\n\u001B[0;32m     25\u001B[0m         \u001B[0mturbine_category\u001B[0m \u001B[1;33m=\u001B[0m \u001B[0mWebDriverWait\u001B[0m\u001B[1;33m(\u001B[0m\u001B[0mdriver\u001B[0m\u001B[1;33m,\u001B[0m \u001B[1;36m10\u001B[0m\u001B[1;33m,\u001B[0m \u001B[0mignored_exceptions\u001B[0m\u001B[1;33m=\u001B[0m\u001B[0mignored_exceptions\u001B[0m\u001B[1;33m)\u001B[0m\u001B[0;31m\\\u001B[0m\u001B[1;33m\u001B[0m\u001B[1;33m\u001B[0m\u001B[0m\n\u001B[0;32m     26\u001B[0m                             \u001B[1;33m.\u001B[0m\u001B[0muntil\u001B[0m\u001B[1;33m(\u001B[0m\u001B[0mexpected_conditions\u001B[0m\u001B[1;33m.\u001B[0m\u001B[0mvisibility_of_element_located\u001B[0m\u001B[1;33m(\u001B[0m\u001B[1;33m(\u001B[0m\u001B[0mBy\u001B[0m\u001B[1;33m.\u001B[0m\u001B[0mXPATH\u001B[0m\u001B[1;33m,\u001B[0m \u001B[1;34m'//a[@href=\"#turbines\"]'\u001B[0m\u001B[1;33m)\u001B[0m\u001B[1;33m)\u001B[0m\u001B[1;33m)\u001B[0m\u001B[1;33m\u001B[0m\u001B[1;33m\u001B[0m\u001B[0m\n\u001B[1;32m---> 27\u001B[1;33m         \u001B[0mturbine_category\u001B[0m\u001B[1;33m.\u001B[0m\u001B[0mclick\u001B[0m\u001B[1;33m(\u001B[0m\u001B[1;33m)\u001B[0m\u001B[1;33m\u001B[0m\u001B[1;33m\u001B[0m\u001B[0m\n\u001B[0m\u001B[0;32m     28\u001B[0m     \u001B[1;32mexcept\u001B[0m \u001B[0mTimeoutException\u001B[0m\u001B[1;33m:\u001B[0m\u001B[1;33m\u001B[0m\u001B[1;33m\u001B[0m\u001B[0m\n\u001B[0;32m     29\u001B[0m         \u001B[1;32mcontinue\u001B[0m\u001B[1;33m\u001B[0m\u001B[1;33m\u001B[0m\u001B[0m\n",
      "\u001B[1;32m~\\anaconda3\\envs\\tumai-makathon24\\lib\\site-packages\\selenium\\webdriver\\remote\\webelement.py\u001B[0m in \u001B[0;36mclick\u001B[1;34m(self)\u001B[0m\n\u001B[0;32m     92\u001B[0m     \u001B[1;32mdef\u001B[0m \u001B[0mclick\u001B[0m\u001B[1;33m(\u001B[0m\u001B[0mself\u001B[0m\u001B[1;33m)\u001B[0m \u001B[1;33m->\u001B[0m \u001B[1;32mNone\u001B[0m\u001B[1;33m:\u001B[0m\u001B[1;33m\u001B[0m\u001B[1;33m\u001B[0m\u001B[0m\n\u001B[0;32m     93\u001B[0m         \u001B[1;34m\"\"\"Clicks the element.\"\"\"\u001B[0m\u001B[1;33m\u001B[0m\u001B[1;33m\u001B[0m\u001B[0m\n\u001B[1;32m---> 94\u001B[1;33m         \u001B[0mself\u001B[0m\u001B[1;33m.\u001B[0m\u001B[0m_execute\u001B[0m\u001B[1;33m(\u001B[0m\u001B[0mCommand\u001B[0m\u001B[1;33m.\u001B[0m\u001B[0mCLICK_ELEMENT\u001B[0m\u001B[1;33m)\u001B[0m\u001B[1;33m\u001B[0m\u001B[1;33m\u001B[0m\u001B[0m\n\u001B[0m\u001B[0;32m     95\u001B[0m \u001B[1;33m\u001B[0m\u001B[0m\n\u001B[0;32m     96\u001B[0m     \u001B[1;32mdef\u001B[0m \u001B[0msubmit\u001B[0m\u001B[1;33m(\u001B[0m\u001B[0mself\u001B[0m\u001B[1;33m)\u001B[0m\u001B[1;33m:\u001B[0m\u001B[1;33m\u001B[0m\u001B[1;33m\u001B[0m\u001B[0m\n",
      "\u001B[1;32m~\\anaconda3\\envs\\tumai-makathon24\\lib\\site-packages\\selenium\\webdriver\\remote\\webelement.py\u001B[0m in \u001B[0;36m_execute\u001B[1;34m(self, command, params)\u001B[0m\n\u001B[0;32m    393\u001B[0m             \u001B[0mparams\u001B[0m \u001B[1;33m=\u001B[0m \u001B[1;33m{\u001B[0m\u001B[1;33m}\u001B[0m\u001B[1;33m\u001B[0m\u001B[1;33m\u001B[0m\u001B[0m\n\u001B[0;32m    394\u001B[0m         \u001B[0mparams\u001B[0m\u001B[1;33m[\u001B[0m\u001B[1;34m\"id\"\u001B[0m\u001B[1;33m]\u001B[0m \u001B[1;33m=\u001B[0m \u001B[0mself\u001B[0m\u001B[1;33m.\u001B[0m\u001B[0m_id\u001B[0m\u001B[1;33m\u001B[0m\u001B[1;33m\u001B[0m\u001B[0m\n\u001B[1;32m--> 395\u001B[1;33m         \u001B[1;32mreturn\u001B[0m \u001B[0mself\u001B[0m\u001B[1;33m.\u001B[0m\u001B[0m_parent\u001B[0m\u001B[1;33m.\u001B[0m\u001B[0mexecute\u001B[0m\u001B[1;33m(\u001B[0m\u001B[0mcommand\u001B[0m\u001B[1;33m,\u001B[0m \u001B[0mparams\u001B[0m\u001B[1;33m)\u001B[0m\u001B[1;33m\u001B[0m\u001B[1;33m\u001B[0m\u001B[0m\n\u001B[0m\u001B[0;32m    396\u001B[0m \u001B[1;33m\u001B[0m\u001B[0m\n\u001B[0;32m    397\u001B[0m     \u001B[1;32mdef\u001B[0m \u001B[0mfind_element\u001B[0m\u001B[1;33m(\u001B[0m\u001B[0mself\u001B[0m\u001B[1;33m,\u001B[0m \u001B[0mby\u001B[0m\u001B[1;33m=\u001B[0m\u001B[0mBy\u001B[0m\u001B[1;33m.\u001B[0m\u001B[0mID\u001B[0m\u001B[1;33m,\u001B[0m \u001B[0mvalue\u001B[0m\u001B[1;33m=\u001B[0m\u001B[1;32mNone\u001B[0m\u001B[1;33m)\u001B[0m \u001B[1;33m->\u001B[0m \u001B[0mWebElement\u001B[0m\u001B[1;33m:\u001B[0m\u001B[1;33m\u001B[0m\u001B[1;33m\u001B[0m\u001B[0m\n",
      "\u001B[1;32m~\\anaconda3\\envs\\tumai-makathon24\\lib\\site-packages\\selenium\\webdriver\\remote\\webdriver.py\u001B[0m in \u001B[0;36mexecute\u001B[1;34m(self, driver_command, params)\u001B[0m\n\u001B[0;32m    343\u001B[0m         \u001B[0mresponse\u001B[0m \u001B[1;33m=\u001B[0m \u001B[0mself\u001B[0m\u001B[1;33m.\u001B[0m\u001B[0mcommand_executor\u001B[0m\u001B[1;33m.\u001B[0m\u001B[0mexecute\u001B[0m\u001B[1;33m(\u001B[0m\u001B[0mdriver_command\u001B[0m\u001B[1;33m,\u001B[0m \u001B[0mparams\u001B[0m\u001B[1;33m)\u001B[0m\u001B[1;33m\u001B[0m\u001B[1;33m\u001B[0m\u001B[0m\n\u001B[0;32m    344\u001B[0m         \u001B[1;32mif\u001B[0m \u001B[0mresponse\u001B[0m\u001B[1;33m:\u001B[0m\u001B[1;33m\u001B[0m\u001B[1;33m\u001B[0m\u001B[0m\n\u001B[1;32m--> 345\u001B[1;33m             \u001B[0mself\u001B[0m\u001B[1;33m.\u001B[0m\u001B[0merror_handler\u001B[0m\u001B[1;33m.\u001B[0m\u001B[0mcheck_response\u001B[0m\u001B[1;33m(\u001B[0m\u001B[0mresponse\u001B[0m\u001B[1;33m)\u001B[0m\u001B[1;33m\u001B[0m\u001B[1;33m\u001B[0m\u001B[0m\n\u001B[0m\u001B[0;32m    346\u001B[0m             \u001B[0mresponse\u001B[0m\u001B[1;33m[\u001B[0m\u001B[1;34m\"value\"\u001B[0m\u001B[1;33m]\u001B[0m \u001B[1;33m=\u001B[0m \u001B[0mself\u001B[0m\u001B[1;33m.\u001B[0m\u001B[0m_unwrap_value\u001B[0m\u001B[1;33m(\u001B[0m\u001B[0mresponse\u001B[0m\u001B[1;33m.\u001B[0m\u001B[0mget\u001B[0m\u001B[1;33m(\u001B[0m\u001B[1;34m\"value\"\u001B[0m\u001B[1;33m,\u001B[0m \u001B[1;32mNone\u001B[0m\u001B[1;33m)\u001B[0m\u001B[1;33m)\u001B[0m\u001B[1;33m\u001B[0m\u001B[1;33m\u001B[0m\u001B[0m\n\u001B[0;32m    347\u001B[0m             \u001B[1;32mreturn\u001B[0m \u001B[0mresponse\u001B[0m\u001B[1;33m\u001B[0m\u001B[1;33m\u001B[0m\u001B[0m\n",
      "\u001B[1;32m~\\anaconda3\\envs\\tumai-makathon24\\lib\\site-packages\\selenium\\webdriver\\remote\\errorhandler.py\u001B[0m in \u001B[0;36mcheck_response\u001B[1;34m(self, response)\u001B[0m\n\u001B[0;32m    227\u001B[0m                 \u001B[0malert_text\u001B[0m \u001B[1;33m=\u001B[0m \u001B[0mvalue\u001B[0m\u001B[1;33m[\u001B[0m\u001B[1;34m\"alert\"\u001B[0m\u001B[1;33m]\u001B[0m\u001B[1;33m.\u001B[0m\u001B[0mget\u001B[0m\u001B[1;33m(\u001B[0m\u001B[1;34m\"text\"\u001B[0m\u001B[1;33m)\u001B[0m\u001B[1;33m\u001B[0m\u001B[1;33m\u001B[0m\u001B[0m\n\u001B[0;32m    228\u001B[0m             \u001B[1;32mraise\u001B[0m \u001B[0mexception_class\u001B[0m\u001B[1;33m(\u001B[0m\u001B[0mmessage\u001B[0m\u001B[1;33m,\u001B[0m \u001B[0mscreen\u001B[0m\u001B[1;33m,\u001B[0m \u001B[0mstacktrace\u001B[0m\u001B[1;33m,\u001B[0m \u001B[0malert_text\u001B[0m\u001B[1;33m)\u001B[0m  \u001B[1;31m# type: ignore[call-arg]  # mypy is not smart enough here\u001B[0m\u001B[1;33m\u001B[0m\u001B[1;33m\u001B[0m\u001B[0m\n\u001B[1;32m--> 229\u001B[1;33m         \u001B[1;32mraise\u001B[0m \u001B[0mexception_class\u001B[0m\u001B[1;33m(\u001B[0m\u001B[0mmessage\u001B[0m\u001B[1;33m,\u001B[0m \u001B[0mscreen\u001B[0m\u001B[1;33m,\u001B[0m \u001B[0mstacktrace\u001B[0m\u001B[1;33m)\u001B[0m\u001B[1;33m\u001B[0m\u001B[1;33m\u001B[0m\u001B[0m\n\u001B[0m",
      "\u001B[1;31mElementClickInterceptedException\u001B[0m: Message: Element <a class=\"btn btn-default\" href=\"#turbines\"> is not clickable at point (551,85) because another element <span> obscures it\nStacktrace:\nRemoteError@chrome://remote/content/shared/RemoteError.sys.mjs:8:8\nWebDriverError@chrome://remote/content/shared/webdriver/Errors.sys.mjs:193:5\nElementClickInterceptedError@chrome://remote/content/shared/webdriver/Errors.sys.mjs:337:5\nwebdriverClickElement@chrome://remote/content/marionette/interaction.sys.mjs:176:11\ninteraction.clickElement@chrome://remote/content/marionette/interaction.sys.mjs:135:11\nclickElement@chrome://remote/content/marionette/actors/MarionetteCommandsChild.sys.mjs:204:29\nreceiveMessage@chrome://remote/content/marionette/actors/MarionetteCommandsChild.sys.mjs:84:31\n"
     ]
    }
   ],
   "execution_count": 20
  },
  {
   "metadata": {
    "ExecuteTime": {
     "end_time": "2024-04-27T15:38:13.005325Z",
     "start_time": "2024-04-27T15:38:12.995328Z"
    }
   },
   "cell_type": "code",
   "source": "data",
   "id": "d5f4c874226ec481",
   "outputs": [
    {
     "data": {
      "text/plain": [
       "[{'vestas v 66': [{'Onshore': 'Yes'}]}]"
      ]
     },
     "execution_count": 22,
     "metadata": {},
     "output_type": "execute_result"
    }
   ],
   "execution_count": 22
  },
  {
   "metadata": {},
   "cell_type": "code",
   "outputs": [],
   "execution_count": null,
   "source": "",
   "id": "b5f0fe04bc7c0c4c"
  }
 ],
 "metadata": {
  "kernelspec": {
   "display_name": "Python 3",
   "language": "python",
   "name": "python3"
  },
  "language_info": {
   "codemirror_mode": {
    "name": "ipython",
    "version": 2
   },
   "file_extension": ".py",
   "mimetype": "text/x-python",
   "name": "python",
   "nbconvert_exporter": "python",
   "pygments_lexer": "ipython2",
   "version": "2.7.6"
  }
 },
 "nbformat": 4,
 "nbformat_minor": 5
}
