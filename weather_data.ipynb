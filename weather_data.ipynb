{
 "cells": [
  {
   "cell_type": "code",
   "id": "initial_id",
   "metadata": {
    "collapsed": true,
    "ExecuteTime": {
     "end_time": "2024-04-27T11:50:10.291451Z",
     "start_time": "2024-04-27T11:50:10.275110Z"
    }
   },
   "source": [
    "import os\n",
    "import zipfile\n",
    "import pandas as pd\n",
    "from tqdm import tqdm\n",
    "\n",
    "from selenium import webdriver\n",
    "from selenium.webdriver.common.by import By\n",
    "from selenium.webdriver.support.wait import WebDriverWait\n",
    "from selenium.webdriver.support import expected_conditions\n",
    "from selenium.common.exceptions import NoSuchElementException\n",
    "from selenium.common.exceptions import StaleElementReferenceException"
   ],
   "outputs": [],
   "execution_count": 99
  },
  {
   "metadata": {
    "ExecuteTime": {
     "end_time": "2024-04-27T09:36:42.512645Z",
     "start_time": "2024-04-27T09:36:42.498609Z"
    }
   },
   "cell_type": "code",
   "source": "schleswig_holstein_weather_station_ids = ['05516', '02564', '04466', '03032', '02115']",
   "id": "f13d5dff2a6659ad",
   "outputs": [],
   "execution_count": 3
  },
  {
   "metadata": {
    "ExecuteTime": {
     "end_time": "2024-04-27T09:36:44.433210Z",
     "start_time": "2024-04-27T09:36:44.425543Z"
    }
   },
   "cell_type": "code",
   "source": [
    "# Extract schleswig holstein wind data\n",
    "if os.path.exists('wind_data_historic/schleswig_holstein'):\n",
    "    print('Data have already been extracted. Aborting.')\n",
    "else:\n",
    "    for file in os.listdir('wind_data_historic/historical'):\n",
    "        if not file.endswith('.zip'):\n",
    "            continue\n",
    "        \n",
    "        weather_station_id = file.split('_')[2]\n",
    "        \n",
    "        if not (weather_station_id in schleswig_holstein_weather_station_ids):\n",
    "            continue\n",
    "        \n",
    "        with zipfile.ZipFile(f'wind_data_historic/historical/{file}', 'r') as zip_ref:\n",
    "            zip_ref.extractall(f'wind_data_historic/schleswig_holstein')"
   ],
   "id": "8485e06281f68f45",
   "outputs": [
    {
     "name": "stdout",
     "output_type": "stream",
     "text": [
      "Data have already been extracted. Aborting.\n"
     ]
    }
   ],
   "execution_count": 4
  },
  {
   "metadata": {},
   "cell_type": "markdown",
   "source": "Before continuing with the pre-processing and feature engineering, I will take a detour and look at the types of wind turbines in the data and their cut-in and cut-out speeds (ie. operational limits wrt wind speed).",
   "id": "f1907f5a1e6769f0"
  },
  {
   "metadata": {
    "ExecuteTime": {
     "end_time": "2024-04-27T11:18:21.228467Z",
     "start_time": "2024-04-27T11:18:21.182636Z"
    }
   },
   "cell_type": "code",
   "source": [
    "# Load tab separated file with wind turbine data\n",
    "wind_turbine_data = pd.read_csv('wind_turbine_data/2023-10-30.csv', sep=';', on_bad_lines='warn')"
   ],
   "id": "637861eb93f184e5",
   "outputs": [],
   "execution_count": 81
  },
  {
   "metadata": {
    "ExecuteTime": {
     "end_time": "2024-04-27T11:18:21.448113Z",
     "start_time": "2024-04-27T11:18:21.425298Z"
    }
   },
   "cell_type": "code",
   "source": "wind_turbine_data.info()",
   "id": "58c96e8e2660d38d",
   "outputs": [
    {
     "name": "stdout",
     "output_type": "stream",
     "text": [
      "<class 'pandas.core.frame.DataFrame'>\n",
      "RangeIndex: 3944 entries, 0 to 3943\n",
      "Data columns (total 19 columns):\n",
      " #   Column                Non-Null Count  Dtype \n",
      "---  ------                --------------  ----- \n",
      " 0   KREIS                 3944 non-null   object\n",
      " 1   GEMEINDE              3944 non-null   object\n",
      " 2   TYP                   3931 non-null   object\n",
      " 3   HERSTELLER            3944 non-null   object\n",
      " 4   NABENHOEHE            3916 non-null   object\n",
      " 5   ROTORDURCHMESSER      3915 non-null   object\n",
      " 6   SCHALLLEISTUNGSPEGEL  3725 non-null   object\n",
      " 7   LEISTUNG              3944 non-null   int64 \n",
      " 8   LEISTUNGSBEZUG        3944 non-null   object\n",
      " 9   OSTWERT               3944 non-null   int64 \n",
      " 10  NORDWERT              3944 non-null   int64 \n",
      " 11  GENEHMIGT_AM          3553 non-null   object\n",
      " 12  INBETRIEBNAHME        3157 non-null   object\n",
      " 13  STATUS                3944 non-null   object\n",
      " 14  BST_NR                3944 non-null   int64 \n",
      " 15  ANL_NR                3944 non-null   int64 \n",
      " 16  AKTENZEICHEN          3944 non-null   object\n",
      " 17  DATENDATUM            3944 non-null   object\n",
      " 18  DATENQUELLE           3944 non-null   object\n",
      "dtypes: int64(5), object(14)\n",
      "memory usage: 585.6+ KB\n"
     ]
    }
   ],
   "execution_count": 82
  },
  {
   "metadata": {},
   "cell_type": "markdown",
   "source": "Preprocess wind power plant type data to consolidate different data entries of the same type.",
   "id": "a1bd11fdfed3d2cf"
  },
  {
   "metadata": {
    "ExecuteTime": {
     "end_time": "2024-04-27T11:18:22.228134Z",
     "start_time": "2024-04-27T11:18:22.183039Z"
    }
   },
   "cell_type": "code",
   "source": "wind_turbine_data['TYP'] = wind_turbine_data['TYP'].str.replace(pat='([^a-zA-Z0-9 ]|wka|WKA|)', repl='', regex=True)",
   "id": "9cb9c2ecb0ed9771",
   "outputs": [],
   "execution_count": 83
  },
  {
   "metadata": {
    "ExecuteTime": {
     "end_time": "2024-04-27T11:18:22.509143Z",
     "start_time": "2024-04-27T11:18:22.497619Z"
    }
   },
   "cell_type": "code",
   "source": "wind_turbine_data['TYP'] = wind_turbine_data['TYP'].str.lower()",
   "id": "ab5754564bdf99ae",
   "outputs": [],
   "execution_count": 84
  },
  {
   "metadata": {
    "ExecuteTime": {
     "end_time": "2024-04-27T11:18:22.870224Z",
     "start_time": "2024-04-27T11:18:22.846935Z"
    }
   },
   "cell_type": "code",
   "source": "wind_turbine_data['TYP'] = wind_turbine_data['TYP'].str.strip()",
   "id": "da80a5d3bb7a382d",
   "outputs": [],
   "execution_count": 85
  },
  {
   "metadata": {
    "ExecuteTime": {
     "end_time": "2024-04-27T11:18:23.429625Z",
     "start_time": "2024-04-27T11:18:23.413333Z"
    }
   },
   "cell_type": "code",
   "source": "wind_turbine_data['TYP'] = wind_turbine_data['TYP'].str.replace(pat='^(typ|[0-9]+) ', repl='', regex=True)",
   "id": "18c89feb1813061d",
   "outputs": [],
   "execution_count": 86
  },
  {
   "metadata": {
    "ExecuteTime": {
     "end_time": "2024-04-27T11:55:01.207044Z",
     "start_time": "2024-04-27T11:54:49.632217Z"
    }
   },
   "cell_type": "code",
   "source": [
    "driver = webdriver.Firefox()\n",
    "driver.get(\"https://en.wind-turbine-models.com/search?q=enercon+e70+e4+2.000\")\n",
    "\n",
    "ignored_exceptions = (NoSuchElementException, StaleElementReferenceException)\n",
    "\n",
    "# Reject cookies on first visit\n",
    "reject_cookies_button = driver.find_element(By.CLASS_NAME, 'cc-decline-all')\n",
    "\n",
    "wait = WebDriverWait(driver, 10)\n",
    "wait.until(lambda driver: reject_cookies_button.is_displayed() and reject_cookies_button.is_enabled())\n",
    "\n",
    "reject_cookies_button.click()\n",
    "\n",
    "for wind_turbine_type in tqdm(wind_turbine_data['TYP'].value_counts().index, desc='Scraping product specifications for wind turbine types in our dataset:'):\n",
    "    search_input = driver.find_element(By.CSS_SELECTOR, 'input.searchbar')\n",
    "    search_input.clear()\n",
    "    search_input.send_keys(wind_turbine_type)\n",
    "    search_input.submit()\n",
    "    \n",
    "    # Navigate to wind turbine results category\n",
    "    # TODO: Might be unavailable if no result is found    \n",
    "    turbine_category = WebDriverWait(driver, 10, ignored_exceptions=ignored_exceptions)\\\n",
    "                        .until(expected_conditions.presence_of_element_located((By.XPATH, '//a[@href=\"#turbines\"]')))\n",
    "    \n",
    "    turbine_category.click()\n",
    "    \n",
    "    # Click into detailed view of wind turbine\n",
    "    # TODO: Might be unavailable if no result is found\n",
    "    wind_turbine_link = driver.find_element(By.XPATH, '//div[@id=\"turbines\"]/div/div/div[@class=\"section-body\"]/div[1]')\n",
    "    \n",
    "    wait = WebDriverWait(driver, 10)\n",
    "    wait.until(lambda driver: wind_turbine_link.is_displayed())\n",
    "    \n",
    "    wind_turbine_link.click()\n",
    "    \n",
    "    wind_turbine_specification_rows = driver.find_elements(By.CSS_SELECTOR, '.tabbox-table > .row')\n",
    "    \n",
    "    data = []\n",
    "    for row in wind_turbine_specification_rows:\n",
    "        label = row.find_element(By.CSS_SELECTOR, '.col-left').text\n",
    "        content = row.find_element(By.CSS_SELECTOR, '.col-right').text\n",
    "        \n",
    "        label = label.replace(':', '')\n",
    "        \n",
    "        data.append({wind_turbine_type: {label: content}})"
   ],
   "id": "de72ab8c8dfb8f95",
   "outputs": [
    {
     "name": "stderr",
     "output_type": "stream",
     "text": [
      "Scraping product specifications for wind turbine types in our dataset::   0%|          | 0/801 [00:00<?, ?it/s]\n"
     ]
    },
    {
     "ename": "ElementNotInteractableException",
     "evalue": "Message: Element <a class=\"btn btn-default\" href=\"#turbines\"> could not be scrolled into view\nStacktrace:\nRemoteError@chrome://remote/content/shared/RemoteError.sys.mjs:8:8\nWebDriverError@chrome://remote/content/shared/webdriver/Errors.sys.mjs:193:5\nElementNotInteractableError@chrome://remote/content/shared/webdriver/Errors.sys.mjs:353:5\nwebdriverClickElement@chrome://remote/content/marionette/interaction.sys.mjs:166:11\ninteraction.clickElement@chrome://remote/content/marionette/interaction.sys.mjs:135:11\nclickElement@chrome://remote/content/marionette/actors/MarionetteCommandsChild.sys.mjs:204:29\nreceiveMessage@chrome://remote/content/marionette/actors/MarionetteCommandsChild.sys.mjs:84:31\n",
     "output_type": "error",
     "traceback": [
      "\u001B[1;31m---------------------------------------------------------------------------\u001B[0m",
      "\u001B[1;31mElementNotInteractableException\u001B[0m           Traceback (most recent call last)",
      "\u001B[1;32m~\\AppData\\Local\\Temp\\ipykernel_20072\\1785243721.py\u001B[0m in \u001B[0;36m<module>\u001B[1;34m\u001B[0m\n\u001B[0;32m     23\u001B[0m                         \u001B[1;33m.\u001B[0m\u001B[0muntil\u001B[0m\u001B[1;33m(\u001B[0m\u001B[0mexpected_conditions\u001B[0m\u001B[1;33m.\u001B[0m\u001B[0mpresence_of_element_located\u001B[0m\u001B[1;33m(\u001B[0m\u001B[1;33m(\u001B[0m\u001B[0mBy\u001B[0m\u001B[1;33m.\u001B[0m\u001B[0mXPATH\u001B[0m\u001B[1;33m,\u001B[0m \u001B[1;34m'//a[@href=\"#turbines\"]'\u001B[0m\u001B[1;33m)\u001B[0m\u001B[1;33m)\u001B[0m\u001B[1;33m)\u001B[0m\u001B[1;33m\u001B[0m\u001B[1;33m\u001B[0m\u001B[0m\n\u001B[0;32m     24\u001B[0m \u001B[1;33m\u001B[0m\u001B[0m\n\u001B[1;32m---> 25\u001B[1;33m     \u001B[0mturbine_category\u001B[0m\u001B[1;33m.\u001B[0m\u001B[0mclick\u001B[0m\u001B[1;33m(\u001B[0m\u001B[1;33m)\u001B[0m\u001B[1;33m\u001B[0m\u001B[1;33m\u001B[0m\u001B[0m\n\u001B[0m\u001B[0;32m     26\u001B[0m \u001B[1;33m\u001B[0m\u001B[0m\n\u001B[0;32m     27\u001B[0m     \u001B[1;31m# Click into detailed view of wind turbine\u001B[0m\u001B[1;33m\u001B[0m\u001B[1;33m\u001B[0m\u001B[1;33m\u001B[0m\u001B[0m\n",
      "\u001B[1;32m~\\anaconda3\\envs\\tumai-makathon24\\lib\\site-packages\\selenium\\webdriver\\remote\\webelement.py\u001B[0m in \u001B[0;36mclick\u001B[1;34m(self)\u001B[0m\n\u001B[0;32m     92\u001B[0m     \u001B[1;32mdef\u001B[0m \u001B[0mclick\u001B[0m\u001B[1;33m(\u001B[0m\u001B[0mself\u001B[0m\u001B[1;33m)\u001B[0m \u001B[1;33m->\u001B[0m \u001B[1;32mNone\u001B[0m\u001B[1;33m:\u001B[0m\u001B[1;33m\u001B[0m\u001B[1;33m\u001B[0m\u001B[0m\n\u001B[0;32m     93\u001B[0m         \u001B[1;34m\"\"\"Clicks the element.\"\"\"\u001B[0m\u001B[1;33m\u001B[0m\u001B[1;33m\u001B[0m\u001B[0m\n\u001B[1;32m---> 94\u001B[1;33m         \u001B[0mself\u001B[0m\u001B[1;33m.\u001B[0m\u001B[0m_execute\u001B[0m\u001B[1;33m(\u001B[0m\u001B[0mCommand\u001B[0m\u001B[1;33m.\u001B[0m\u001B[0mCLICK_ELEMENT\u001B[0m\u001B[1;33m)\u001B[0m\u001B[1;33m\u001B[0m\u001B[1;33m\u001B[0m\u001B[0m\n\u001B[0m\u001B[0;32m     95\u001B[0m \u001B[1;33m\u001B[0m\u001B[0m\n\u001B[0;32m     96\u001B[0m     \u001B[1;32mdef\u001B[0m \u001B[0msubmit\u001B[0m\u001B[1;33m(\u001B[0m\u001B[0mself\u001B[0m\u001B[1;33m)\u001B[0m\u001B[1;33m:\u001B[0m\u001B[1;33m\u001B[0m\u001B[1;33m\u001B[0m\u001B[0m\n",
      "\u001B[1;32m~\\anaconda3\\envs\\tumai-makathon24\\lib\\site-packages\\selenium\\webdriver\\remote\\webelement.py\u001B[0m in \u001B[0;36m_execute\u001B[1;34m(self, command, params)\u001B[0m\n\u001B[0;32m    393\u001B[0m             \u001B[0mparams\u001B[0m \u001B[1;33m=\u001B[0m \u001B[1;33m{\u001B[0m\u001B[1;33m}\u001B[0m\u001B[1;33m\u001B[0m\u001B[1;33m\u001B[0m\u001B[0m\n\u001B[0;32m    394\u001B[0m         \u001B[0mparams\u001B[0m\u001B[1;33m[\u001B[0m\u001B[1;34m\"id\"\u001B[0m\u001B[1;33m]\u001B[0m \u001B[1;33m=\u001B[0m \u001B[0mself\u001B[0m\u001B[1;33m.\u001B[0m\u001B[0m_id\u001B[0m\u001B[1;33m\u001B[0m\u001B[1;33m\u001B[0m\u001B[0m\n\u001B[1;32m--> 395\u001B[1;33m         \u001B[1;32mreturn\u001B[0m \u001B[0mself\u001B[0m\u001B[1;33m.\u001B[0m\u001B[0m_parent\u001B[0m\u001B[1;33m.\u001B[0m\u001B[0mexecute\u001B[0m\u001B[1;33m(\u001B[0m\u001B[0mcommand\u001B[0m\u001B[1;33m,\u001B[0m \u001B[0mparams\u001B[0m\u001B[1;33m)\u001B[0m\u001B[1;33m\u001B[0m\u001B[1;33m\u001B[0m\u001B[0m\n\u001B[0m\u001B[0;32m    396\u001B[0m \u001B[1;33m\u001B[0m\u001B[0m\n\u001B[0;32m    397\u001B[0m     \u001B[1;32mdef\u001B[0m \u001B[0mfind_element\u001B[0m\u001B[1;33m(\u001B[0m\u001B[0mself\u001B[0m\u001B[1;33m,\u001B[0m \u001B[0mby\u001B[0m\u001B[1;33m=\u001B[0m\u001B[0mBy\u001B[0m\u001B[1;33m.\u001B[0m\u001B[0mID\u001B[0m\u001B[1;33m,\u001B[0m \u001B[0mvalue\u001B[0m\u001B[1;33m=\u001B[0m\u001B[1;32mNone\u001B[0m\u001B[1;33m)\u001B[0m \u001B[1;33m->\u001B[0m \u001B[0mWebElement\u001B[0m\u001B[1;33m:\u001B[0m\u001B[1;33m\u001B[0m\u001B[1;33m\u001B[0m\u001B[0m\n",
      "\u001B[1;32m~\\anaconda3\\envs\\tumai-makathon24\\lib\\site-packages\\selenium\\webdriver\\remote\\webdriver.py\u001B[0m in \u001B[0;36mexecute\u001B[1;34m(self, driver_command, params)\u001B[0m\n\u001B[0;32m    343\u001B[0m         \u001B[0mresponse\u001B[0m \u001B[1;33m=\u001B[0m \u001B[0mself\u001B[0m\u001B[1;33m.\u001B[0m\u001B[0mcommand_executor\u001B[0m\u001B[1;33m.\u001B[0m\u001B[0mexecute\u001B[0m\u001B[1;33m(\u001B[0m\u001B[0mdriver_command\u001B[0m\u001B[1;33m,\u001B[0m \u001B[0mparams\u001B[0m\u001B[1;33m)\u001B[0m\u001B[1;33m\u001B[0m\u001B[1;33m\u001B[0m\u001B[0m\n\u001B[0;32m    344\u001B[0m         \u001B[1;32mif\u001B[0m \u001B[0mresponse\u001B[0m\u001B[1;33m:\u001B[0m\u001B[1;33m\u001B[0m\u001B[1;33m\u001B[0m\u001B[0m\n\u001B[1;32m--> 345\u001B[1;33m             \u001B[0mself\u001B[0m\u001B[1;33m.\u001B[0m\u001B[0merror_handler\u001B[0m\u001B[1;33m.\u001B[0m\u001B[0mcheck_response\u001B[0m\u001B[1;33m(\u001B[0m\u001B[0mresponse\u001B[0m\u001B[1;33m)\u001B[0m\u001B[1;33m\u001B[0m\u001B[1;33m\u001B[0m\u001B[0m\n\u001B[0m\u001B[0;32m    346\u001B[0m             \u001B[0mresponse\u001B[0m\u001B[1;33m[\u001B[0m\u001B[1;34m\"value\"\u001B[0m\u001B[1;33m]\u001B[0m \u001B[1;33m=\u001B[0m \u001B[0mself\u001B[0m\u001B[1;33m.\u001B[0m\u001B[0m_unwrap_value\u001B[0m\u001B[1;33m(\u001B[0m\u001B[0mresponse\u001B[0m\u001B[1;33m.\u001B[0m\u001B[0mget\u001B[0m\u001B[1;33m(\u001B[0m\u001B[1;34m\"value\"\u001B[0m\u001B[1;33m,\u001B[0m \u001B[1;32mNone\u001B[0m\u001B[1;33m)\u001B[0m\u001B[1;33m)\u001B[0m\u001B[1;33m\u001B[0m\u001B[1;33m\u001B[0m\u001B[0m\n\u001B[0;32m    347\u001B[0m             \u001B[1;32mreturn\u001B[0m \u001B[0mresponse\u001B[0m\u001B[1;33m\u001B[0m\u001B[1;33m\u001B[0m\u001B[0m\n",
      "\u001B[1;32m~\\anaconda3\\envs\\tumai-makathon24\\lib\\site-packages\\selenium\\webdriver\\remote\\errorhandler.py\u001B[0m in \u001B[0;36mcheck_response\u001B[1;34m(self, response)\u001B[0m\n\u001B[0;32m    227\u001B[0m                 \u001B[0malert_text\u001B[0m \u001B[1;33m=\u001B[0m \u001B[0mvalue\u001B[0m\u001B[1;33m[\u001B[0m\u001B[1;34m\"alert\"\u001B[0m\u001B[1;33m]\u001B[0m\u001B[1;33m.\u001B[0m\u001B[0mget\u001B[0m\u001B[1;33m(\u001B[0m\u001B[1;34m\"text\"\u001B[0m\u001B[1;33m)\u001B[0m\u001B[1;33m\u001B[0m\u001B[1;33m\u001B[0m\u001B[0m\n\u001B[0;32m    228\u001B[0m             \u001B[1;32mraise\u001B[0m \u001B[0mexception_class\u001B[0m\u001B[1;33m(\u001B[0m\u001B[0mmessage\u001B[0m\u001B[1;33m,\u001B[0m \u001B[0mscreen\u001B[0m\u001B[1;33m,\u001B[0m \u001B[0mstacktrace\u001B[0m\u001B[1;33m,\u001B[0m \u001B[0malert_text\u001B[0m\u001B[1;33m)\u001B[0m  \u001B[1;31m# type: ignore[call-arg]  # mypy is not smart enough here\u001B[0m\u001B[1;33m\u001B[0m\u001B[1;33m\u001B[0m\u001B[0m\n\u001B[1;32m--> 229\u001B[1;33m         \u001B[1;32mraise\u001B[0m \u001B[0mexception_class\u001B[0m\u001B[1;33m(\u001B[0m\u001B[0mmessage\u001B[0m\u001B[1;33m,\u001B[0m \u001B[0mscreen\u001B[0m\u001B[1;33m,\u001B[0m \u001B[0mstacktrace\u001B[0m\u001B[1;33m)\u001B[0m\u001B[1;33m\u001B[0m\u001B[1;33m\u001B[0m\u001B[0m\n\u001B[0m",
      "\u001B[1;31mElementNotInteractableException\u001B[0m: Message: Element <a class=\"btn btn-default\" href=\"#turbines\"> could not be scrolled into view\nStacktrace:\nRemoteError@chrome://remote/content/shared/RemoteError.sys.mjs:8:8\nWebDriverError@chrome://remote/content/shared/webdriver/Errors.sys.mjs:193:5\nElementNotInteractableError@chrome://remote/content/shared/webdriver/Errors.sys.mjs:353:5\nwebdriverClickElement@chrome://remote/content/marionette/interaction.sys.mjs:166:11\ninteraction.clickElement@chrome://remote/content/marionette/interaction.sys.mjs:135:11\nclickElement@chrome://remote/content/marionette/actors/MarionetteCommandsChild.sys.mjs:204:29\nreceiveMessage@chrome://remote/content/marionette/actors/MarionetteCommandsChild.sys.mjs:84:31\n"
     ]
    }
   ],
   "execution_count": 101
  },
  {
   "metadata": {},
   "cell_type": "code",
   "outputs": [],
   "execution_count": null,
   "source": "",
   "id": "5b78747e3488739c"
  }
 ],
 "metadata": {
  "kernelspec": {
   "display_name": "Python 3",
   "language": "python",
   "name": "python3"
  },
  "language_info": {
   "codemirror_mode": {
    "name": "ipython",
    "version": 2
   },
   "file_extension": ".py",
   "mimetype": "text/x-python",
   "name": "python",
   "nbconvert_exporter": "python",
   "pygments_lexer": "ipython2",
   "version": "2.7.6"
  }
 },
 "nbformat": 4,
 "nbformat_minor": 5
}
