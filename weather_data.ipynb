{
 "cells": [
  {
   "cell_type": "code",
   "id": "initial_id",
   "metadata": {
    "collapsed": true,
    "ExecuteTime": {
     "end_time": "2024-04-28T07:05:22.591764Z",
     "start_time": "2024-04-28T07:05:21.563272Z"
    }
   },
   "source": [
    "import os\n",
    "import zipfile\n",
    "import pandas as pd\n",
    "from tqdm import tqdm\n",
    "\n",
    "from selenium import webdriver\n",
    "from selenium.webdriver.common.by import By\n",
    "from selenium.webdriver.support.wait import WebDriverWait\n",
    "from selenium.webdriver.support import expected_conditions\n",
    "from selenium.common.exceptions import NoSuchElementException\n",
    "from selenium.common.exceptions import StaleElementReferenceException\n",
    "from selenium.common import TimeoutException"
   ],
   "outputs": [],
   "execution_count": 1
  },
  {
   "metadata": {
    "ExecuteTime": {
     "end_time": "2024-04-28T07:05:32.045480Z",
     "start_time": "2024-04-28T07:05:32.031812Z"
    }
   },
   "cell_type": "code",
   "source": "schleswig_holstein_weather_station_ids = ['05516', '02564', '04466', '03032', '02115']",
   "id": "f13d5dff2a6659ad",
   "outputs": [],
   "execution_count": 2
  },
  {
   "metadata": {
    "ExecuteTime": {
     "end_time": "2024-04-28T07:05:32.474388Z",
     "start_time": "2024-04-28T07:05:32.464117Z"
    }
   },
   "cell_type": "code",
   "source": [
    "# Extract schleswig holstein wind data\n",
    "if os.path.exists('wind_data_historic/schleswig_holstein'):\n",
    "    print('Data have already been extracted. Aborting.')\n",
    "else:\n",
    "    for file in os.listdir('wind_data_historic/historical'):\n",
    "        if not file.endswith('.zip'):\n",
    "            continue\n",
    "        \n",
    "        weather_station_id = file.split('_')[2]\n",
    "        \n",
    "        if not (weather_station_id in schleswig_holstein_weather_station_ids):\n",
    "            continue\n",
    "        \n",
    "        with zipfile.ZipFile(f'wind_data_historic/historical/{file}', 'r') as zip_ref:\n",
    "            zip_ref.extractall(f'wind_data_historic/schleswig_holstein')"
   ],
   "id": "8485e06281f68f45",
   "outputs": [
    {
     "name": "stdout",
     "output_type": "stream",
     "text": [
      "Data have already been extracted. Aborting.\n"
     ]
    }
   ],
   "execution_count": 3
  },
  {
   "metadata": {},
   "cell_type": "markdown",
   "source": "Before continuing with the pre-processing and feature engineering, I will take a detour and look at the types of wind turbines in the data and their cut-in and cut-out speeds (ie. operational limits wrt wind speed).",
   "id": "f1907f5a1e6769f0"
  },
  {
   "metadata": {
    "ExecuteTime": {
     "end_time": "2024-04-28T07:05:33.811342Z",
     "start_time": "2024-04-28T07:05:33.768777Z"
    }
   },
   "cell_type": "code",
   "source": [
    "# Load tab separated file with wind turbine data\n",
    "wind_turbine_data = pd.read_csv('wind_turbine_data/2023-10-30.csv', sep=';', on_bad_lines='warn')"
   ],
   "id": "637861eb93f184e5",
   "outputs": [],
   "execution_count": 4
  },
  {
   "metadata": {
    "ExecuteTime": {
     "end_time": "2024-04-28T07:05:34.554204Z",
     "start_time": "2024-04-28T07:05:34.526353Z"
    }
   },
   "cell_type": "code",
   "source": "wind_turbine_data.info()",
   "id": "58c96e8e2660d38d",
   "outputs": [
    {
     "name": "stdout",
     "output_type": "stream",
     "text": [
      "<class 'pandas.core.frame.DataFrame'>\n",
      "RangeIndex: 3944 entries, 0 to 3943\n",
      "Data columns (total 19 columns):\n",
      " #   Column                Non-Null Count  Dtype \n",
      "---  ------                --------------  ----- \n",
      " 0   KREIS                 3944 non-null   object\n",
      " 1   GEMEINDE              3944 non-null   object\n",
      " 2   TYP                   3931 non-null   object\n",
      " 3   HERSTELLER            3944 non-null   object\n",
      " 4   NABENHOEHE            3916 non-null   object\n",
      " 5   ROTORDURCHMESSER      3915 non-null   object\n",
      " 6   SCHALLLEISTUNGSPEGEL  3725 non-null   object\n",
      " 7   LEISTUNG              3944 non-null   int64 \n",
      " 8   LEISTUNGSBEZUG        3944 non-null   object\n",
      " 9   OSTWERT               3944 non-null   int64 \n",
      " 10  NORDWERT              3944 non-null   int64 \n",
      " 11  GENEHMIGT_AM          3553 non-null   object\n",
      " 12  INBETRIEBNAHME        3157 non-null   object\n",
      " 13  STATUS                3944 non-null   object\n",
      " 14  BST_NR                3944 non-null   int64 \n",
      " 15  ANL_NR                3944 non-null   int64 \n",
      " 16  AKTENZEICHEN          3944 non-null   object\n",
      " 17  DATENDATUM            3944 non-null   object\n",
      " 18  DATENQUELLE           3944 non-null   object\n",
      "dtypes: int64(5), object(14)\n",
      "memory usage: 585.6+ KB\n"
     ]
    }
   ],
   "execution_count": 5
  },
  {
   "metadata": {},
   "cell_type": "markdown",
   "source": "Preprocess wind power plant type data to consolidate different data entries of the same type.",
   "id": "a1bd11fdfed3d2cf"
  },
  {
   "metadata": {
    "ExecuteTime": {
     "end_time": "2024-04-28T07:05:36.392448Z",
     "start_time": "2024-04-28T07:05:36.360516Z"
    }
   },
   "cell_type": "code",
   "source": "wind_turbine_data['TYP'] = wind_turbine_data['TYP'].str.replace(pat='([^a-zA-Z0-9 ]|wka|WKA|)', repl='', regex=True)",
   "id": "9cb9c2ecb0ed9771",
   "outputs": [],
   "execution_count": 6
  },
  {
   "metadata": {
    "ExecuteTime": {
     "end_time": "2024-04-28T07:05:36.789951Z",
     "start_time": "2024-04-28T07:05:36.774304Z"
    }
   },
   "cell_type": "code",
   "source": "wind_turbine_data['TYP'] = wind_turbine_data['TYP'].str.lower()",
   "id": "ab5754564bdf99ae",
   "outputs": [],
   "execution_count": 7
  },
  {
   "metadata": {
    "ExecuteTime": {
     "end_time": "2024-04-28T07:05:37.152369Z",
     "start_time": "2024-04-28T07:05:37.136408Z"
    }
   },
   "cell_type": "code",
   "source": "wind_turbine_data['TYP'] = wind_turbine_data['TYP'].str.strip()",
   "id": "da80a5d3bb7a382d",
   "outputs": [],
   "execution_count": 8
  },
  {
   "metadata": {
    "ExecuteTime": {
     "end_time": "2024-04-28T07:05:37.547167Z",
     "start_time": "2024-04-28T07:05:37.525019Z"
    }
   },
   "cell_type": "code",
   "source": "wind_turbine_data['TYP'] = wind_turbine_data['TYP'].str.replace(pat='^(typ|[0-9]+) ', repl='', regex=True)",
   "id": "18c89feb1813061d",
   "outputs": [],
   "execution_count": 9
  },
  {
   "metadata": {
    "ExecuteTime": {
     "end_time": "2024-04-28T07:07:51.694498Z",
     "start_time": "2024-04-28T07:07:15.533824Z"
    }
   },
   "cell_type": "code",
   "source": [
    "options = webdriver.FirefoxOptions()\n",
    "options.add_argument('-headless')\n",
    "\n",
    "driver = webdriver.Firefox(options=options)\n",
    "driver.get(\"https://en.wind-turbine-models.com/search?q=enercon+e70+e4+2.000\")\n",
    "\n",
    "ignored_exceptions = (NoSuchElementException, StaleElementReferenceException)\n",
    "\n",
    "# Reject cookies on first visit\n",
    "reject_cookies_button = driver.find_element(By.CLASS_NAME, 'cc-decline-all')\n",
    "\n",
    "wait = WebDriverWait(driver, 10)\n",
    "wait.until(lambda driver: reject_cookies_button.is_displayed() and reject_cookies_button.is_enabled())\n",
    "\n",
    "reject_cookies_button.click()\n",
    "\n",
    "data = []\n",
    "for wind_turbine_type in tqdm(wind_turbine_data['TYP'].value_counts().index, desc='Scraping product specifications for wind turbine types in our dataset:'):\n",
    "    search_input = driver.find_element(By.CSS_SELECTOR, 'input.searchbar')\n",
    "    search_input.clear()\n",
    "    search_input.send_keys(wind_turbine_type)\n",
    "    search_input.submit()\n",
    "    \n",
    "    # Navigate to wind turbine results category\n",
    "    try:\n",
    "        turbine_category = WebDriverWait(driver, 10, ignored_exceptions=ignored_exceptions)\\\n",
    "                            .until(expected_conditions.visibility_of_element_located((By.XPATH, '//a[@href=\"#turbines\"]')))\n",
    "        turbine_category.click()\n",
    "    except TimeoutException:\n",
    "        continue\n",
    "    \n",
    "    # Click into detailed view of wind turbine\n",
    "    wind_turbine_link = WebDriverWait(driver, 10, ignored_exceptions=ignored_exceptions)\\\n",
    "                        .until(expected_conditions.visibility_of_element_located((By.XPATH, '//div[@id=\"turbines\"]/div/div/div[@class=\"section-body\"]/div[1]')))    \n",
    "    wind_turbine_link.click()\n",
    "    \n",
    "    wind_turbine_specification_rows = driver.find_elements(By.CSS_SELECTOR, '.tabbox-table > .row')\n",
    "    \n",
    "    wind_turbine_specification = []\n",
    "    for row in wind_turbine_specification_rows:  \n",
    "        label = row.find_element(By.CSS_SELECTOR, '.col-left').text\n",
    "        content = row.find_element(By.CSS_SELECTOR, '.col-right').text\n",
    "        \n",
    "        label = label.replace(':', '')\n",
    "        \n",
    "        wind_turbine_specification.append({label: content})\n",
    "    data.append({wind_turbine_type: wind_turbine_specification})\n",
    "        \n",
    "driver.quit()"
   ],
   "id": "de72ab8c8dfb8f95",
   "outputs": [
    {
     "name": "stderr",
     "output_type": "stream",
     "text": [
      "Scraping product specifications for wind turbine types in our dataset::   0%|          | 3/801 [00:27<2:02:27,  9.21s/it]\n"
     ]
    },
    {
     "ename": "KeyboardInterrupt",
     "evalue": "",
     "output_type": "error",
     "traceback": [
      "\u001B[1;31m---------------------------------------------------------------------------\u001B[0m",
      "\u001B[1;31mKeyboardInterrupt\u001B[0m                         Traceback (most recent call last)",
      "\u001B[1;32m~\\AppData\\Local\\Temp\\ipykernel_30244\\3117797575.py\u001B[0m in \u001B[0;36m<module>\u001B[1;34m\u001B[0m\n\u001B[0;32m     25\u001B[0m     \u001B[1;32mtry\u001B[0m\u001B[1;33m:\u001B[0m\u001B[1;33m\u001B[0m\u001B[1;33m\u001B[0m\u001B[0m\n\u001B[0;32m     26\u001B[0m         \u001B[0mturbine_category\u001B[0m \u001B[1;33m=\u001B[0m \u001B[0mWebDriverWait\u001B[0m\u001B[1;33m(\u001B[0m\u001B[0mdriver\u001B[0m\u001B[1;33m,\u001B[0m \u001B[1;36m10\u001B[0m\u001B[1;33m,\u001B[0m \u001B[0mignored_exceptions\u001B[0m\u001B[1;33m=\u001B[0m\u001B[0mignored_exceptions\u001B[0m\u001B[1;33m)\u001B[0m\u001B[0;31m\\\u001B[0m\u001B[1;33m\u001B[0m\u001B[1;33m\u001B[0m\u001B[0m\n\u001B[1;32m---> 27\u001B[1;33m                             \u001B[1;33m.\u001B[0m\u001B[0muntil\u001B[0m\u001B[1;33m(\u001B[0m\u001B[0mexpected_conditions\u001B[0m\u001B[1;33m.\u001B[0m\u001B[0mvisibility_of_element_located\u001B[0m\u001B[1;33m(\u001B[0m\u001B[1;33m(\u001B[0m\u001B[0mBy\u001B[0m\u001B[1;33m.\u001B[0m\u001B[0mXPATH\u001B[0m\u001B[1;33m,\u001B[0m \u001B[1;34m'//a[@href=\"#turbines\"]'\u001B[0m\u001B[1;33m)\u001B[0m\u001B[1;33m)\u001B[0m\u001B[1;33m)\u001B[0m\u001B[1;33m\u001B[0m\u001B[1;33m\u001B[0m\u001B[0m\n\u001B[0m\u001B[0;32m     28\u001B[0m         \u001B[0mturbine_category\u001B[0m\u001B[1;33m.\u001B[0m\u001B[0mclick\u001B[0m\u001B[1;33m(\u001B[0m\u001B[1;33m)\u001B[0m\u001B[1;33m\u001B[0m\u001B[1;33m\u001B[0m\u001B[0m\n\u001B[0;32m     29\u001B[0m     \u001B[1;32mexcept\u001B[0m \u001B[0mTimeoutException\u001B[0m\u001B[1;33m:\u001B[0m\u001B[1;33m\u001B[0m\u001B[1;33m\u001B[0m\u001B[0m\n",
      "\u001B[1;32m~\\anaconda3\\envs\\tumai-makathon24\\lib\\site-packages\\selenium\\webdriver\\support\\wait.py\u001B[0m in \u001B[0;36muntil\u001B[1;34m(self, method, message)\u001B[0m\n\u001B[0;32m     90\u001B[0m                 \u001B[0mscreen\u001B[0m \u001B[1;33m=\u001B[0m \u001B[0mgetattr\u001B[0m\u001B[1;33m(\u001B[0m\u001B[0mexc\u001B[0m\u001B[1;33m,\u001B[0m \u001B[1;34m\"screen\"\u001B[0m\u001B[1;33m,\u001B[0m \u001B[1;32mNone\u001B[0m\u001B[1;33m)\u001B[0m\u001B[1;33m\u001B[0m\u001B[1;33m\u001B[0m\u001B[0m\n\u001B[0;32m     91\u001B[0m                 \u001B[0mstacktrace\u001B[0m \u001B[1;33m=\u001B[0m \u001B[0mgetattr\u001B[0m\u001B[1;33m(\u001B[0m\u001B[0mexc\u001B[0m\u001B[1;33m,\u001B[0m \u001B[1;34m\"stacktrace\"\u001B[0m\u001B[1;33m,\u001B[0m \u001B[1;32mNone\u001B[0m\u001B[1;33m)\u001B[0m\u001B[1;33m\u001B[0m\u001B[1;33m\u001B[0m\u001B[0m\n\u001B[1;32m---> 92\u001B[1;33m             \u001B[0mtime\u001B[0m\u001B[1;33m.\u001B[0m\u001B[0msleep\u001B[0m\u001B[1;33m(\u001B[0m\u001B[0mself\u001B[0m\u001B[1;33m.\u001B[0m\u001B[0m_poll\u001B[0m\u001B[1;33m)\u001B[0m\u001B[1;33m\u001B[0m\u001B[1;33m\u001B[0m\u001B[0m\n\u001B[0m\u001B[0;32m     93\u001B[0m             \u001B[1;32mif\u001B[0m \u001B[0mtime\u001B[0m\u001B[1;33m.\u001B[0m\u001B[0mmonotonic\u001B[0m\u001B[1;33m(\u001B[0m\u001B[1;33m)\u001B[0m \u001B[1;33m>\u001B[0m \u001B[0mend_time\u001B[0m\u001B[1;33m:\u001B[0m\u001B[1;33m\u001B[0m\u001B[1;33m\u001B[0m\u001B[0m\n\u001B[0;32m     94\u001B[0m                 \u001B[1;32mbreak\u001B[0m\u001B[1;33m\u001B[0m\u001B[1;33m\u001B[0m\u001B[0m\n",
      "\u001B[1;31mKeyboardInterrupt\u001B[0m: "
     ]
    }
   ],
   "execution_count": 10
  },
  {
   "metadata": {
    "ExecuteTime": {
     "end_time": "2024-04-28T07:07:53.585225Z",
     "start_time": "2024-04-28T07:07:53.563652Z"
    }
   },
   "cell_type": "code",
   "source": "data",
   "id": "d5f4c874226ec481",
   "outputs": [
    {
     "data": {
      "text/plain": [
       "[{'enercon e70 e4': [{'Rated power': '2,000.0 kW'},\n",
       "   {'Flexible power ratings': '-'},\n",
       "   {'Cut-in wind speed': '2.5 m/s'},\n",
       "   {'Rated wind speed': '13.5 m/s'},\n",
       "   {'Cut-out wind speed': '34.0 m/s'},\n",
       "   {'Survival wind speed': '-'},\n",
       "   {'Wind zone (DIBt)': '-'},\n",
       "   {'Wind class (IEC)': '-'},\n",
       "   {'Diameter': '71.0 m'},\n",
       "   {'Swept area': '3,959.0 m²'},\n",
       "   {'Number of blades': '3'},\n",
       "   {'Rotor speed, max': '21.5 U/min'},\n",
       "   {'Tipspeed': '80 m/s'},\n",
       "   {'Type': '-'},\n",
       "   {'Material': 'GFK'},\n",
       "   {'Manufacturer': 'Enercon'},\n",
       "   {'Power density 1': '505.2 W/m²'},\n",
       "   {'Power density 2': '2.0 m²/kW'},\n",
       "   {'Type': 'with out. direct drive'},\n",
       "   {'Stages': '-'},\n",
       "   {'Ratio': '-'},\n",
       "   {'Manufacturer': '-'},\n",
       "   {'Type': 'Synchronous'},\n",
       "   {'Number': '1'},\n",
       "   {'Speed, max': '21.5 U/min'},\n",
       "   {'Voltage': '690.0 V'},\n",
       "   {'Grid connection': 'IGBT'},\n",
       "   {'Grid frequency': '50 Hz'},\n",
       "   {'Manufacturer': 'Enercon'},\n",
       "   {'Hub height': '64/85/98/99/113 m'},\n",
       "   {'Type': 'Steel tube/ concrete'},\n",
       "   {'Shape': 'conical'},\n",
       "   {'Corrosion protection': 'painted'},\n",
       "   {'Manufacturer': 'Enercon'},\n",
       "   {'Single blade': '-'},\n",
       "   {'Hub': '-'},\n",
       "   {'Rotor': '-'},\n",
       "   {'Nacelle': '-'},\n",
       "   {'Tower, max': '-'},\n",
       "   {'Total weight': '-'},\n",
       "   {'Installation': '-'},\n",
       "   {'Offshore': 'No'},\n",
       "   {'Onshore': 'Yes'}]},\n",
       " {'vestas v112': [{'Rated power': '3,300.0 kW'},\n",
       "   {'Flexible power ratings': '-'},\n",
       "   {'Cut-in wind speed': '3.0 m/s'},\n",
       "   {'Rated wind speed': '12.5 m/s'},\n",
       "   {'Cut-out wind speed': '25.0 m/s'},\n",
       "   {'Survival wind speed': '-'},\n",
       "   {'Wind zone (DIBt)': 'III'},\n",
       "   {'Wind class (IEC)': 'Ib'},\n",
       "   {'Diameter': '112.0 m'},\n",
       "   {'Swept area': '9,852.0 m²'},\n",
       "   {'Number of blades': '3'},\n",
       "   {'Rotor speed, max': '-'},\n",
       "   {'Tipspeed': '-'},\n",
       "   {'Type': '54.7m'},\n",
       "   {'Material': 'Fiberglass / Carbon'},\n",
       "   {'Manufacturer': '-'},\n",
       "   {'Power density 1': '335.0 W/m²'},\n",
       "   {'Power density 2': '3.0 m²/kW'},\n",
       "   {'Type': 'spur/planetary'},\n",
       "   {'Stages': '-'},\n",
       "   {'Ratio': '-'},\n",
       "   {'Manufacturer': '-'},\n",
       "   {'Type': '-'},\n",
       "   {'Number': '1'},\n",
       "   {'Speed, max': '-'},\n",
       "   {'Voltage': '-'},\n",
       "   {'Grid connection': 'converter'},\n",
       "   {'Grid frequency': '50/60 Hz'},\n",
       "   {'Manufacturer': '-'},\n",
       "   {'Hub height': 'site-specific m'},\n",
       "   {'Type': 'steel tube'},\n",
       "   {'Shape': 'conical'},\n",
       "   {'Corrosion protection': 'painted'},\n",
       "   {'Manufacturer': '-'},\n",
       "   {'Single blade': '11.9 t'},\n",
       "   {'Hub': '-'},\n",
       "   {'Rotor': '-'},\n",
       "   {'Nacelle': '157.0 t'},\n",
       "   {'Tower, max': '-'},\n",
       "   {'Total weight': '-'},\n",
       "   {'Installation': '-'},\n",
       "   {'Offshore': 'Yes'},\n",
       "   {'Onshore': 'Yes'}]}]"
      ]
     },
     "execution_count": 11,
     "metadata": {},
     "output_type": "execute_result"
    }
   ],
   "execution_count": 11
  },
  {
   "metadata": {},
   "cell_type": "code",
   "outputs": [],
   "execution_count": null,
   "source": "",
   "id": "b5f0fe04bc7c0c4c"
  }
 ],
 "metadata": {
  "kernelspec": {
   "display_name": "Python 3",
   "language": "python",
   "name": "python3"
  },
  "language_info": {
   "codemirror_mode": {
    "name": "ipython",
    "version": 2
   },
   "file_extension": ".py",
   "mimetype": "text/x-python",
   "name": "python",
   "nbconvert_exporter": "python",
   "pygments_lexer": "ipython2",
   "version": "2.7.6"
  }
 },
 "nbformat": 4,
 "nbformat_minor": 5
}
