{
 "cells": [
  {
   "cell_type": "code",
   "id": "initial_id",
   "metadata": {
    "collapsed": true,
    "ExecuteTime": {
     "end_time": "2024-04-27T08:34:52.055524Z",
     "start_time": "2024-04-27T08:34:52.048638Z"
    }
   },
   "source": [
    "import os\n",
    "import zipfile\n",
    "import pandas as pd"
   ],
   "outputs": [],
   "execution_count": 2
  },
  {
   "metadata": {
    "ExecuteTime": {
     "end_time": "2024-04-27T08:36:02.431303Z",
     "start_time": "2024-04-27T08:36:02.411498Z"
    }
   },
   "cell_type": "code",
   "source": "schleswig_holstein_weather_station_ids = ['05516', '02564', '04466', '03032', '02115']",
   "id": "f13d5dff2a6659ad",
   "outputs": [],
   "execution_count": 5
  },
  {
   "metadata": {
    "ExecuteTime": {
     "end_time": "2024-04-27T08:38:19.689833Z",
     "start_time": "2024-04-27T08:38:19.094463Z"
    }
   },
   "cell_type": "code",
   "source": [
    "# Extract schleswig holstein wind data\n",
    "if os.path.exists('wind_data_historic/schleswig_holstein'):\n",
    "    print('Data have already been extracted. Aborting.')\n",
    "else:\n",
    "    for file in os.listdir('wind_data_historic/historical'):\n",
    "        if not file.endswith('.zip'):\n",
    "            continue\n",
    "        \n",
    "        weather_station_id = file.split('_')[2]\n",
    "        \n",
    "        if not (weather_station_id in schleswig_holstein_weather_station_ids):\n",
    "            continue\n",
    "        \n",
    "        with zipfile.ZipFile(f'wind_data_historic/historical/{file}', 'r') as zip_ref:\n",
    "            zip_ref.extractall(f'wind_data_historic/schleswig_holstein')"
   ],
   "id": "8485e06281f68f45",
   "outputs": [],
   "execution_count": 10
  },
  {
   "metadata": {},
   "cell_type": "markdown",
   "source": "Before continuing with the pre-processing and feature engineering, I will take a detour and look at the types of wind turbines in the data and their cut-in and cut-out speeds (ie. operational limits wrt wind speed).",
   "id": "f1907f5a1e6769f0"
  },
  {
   "metadata": {
    "ExecuteTime": {
     "end_time": "2024-04-27T08:36:29.279782Z",
     "start_time": "2024-04-27T08:36:29.263672Z"
    }
   },
   "cell_type": "code",
   "source": "",
   "id": "637861eb93f184e5",
   "outputs": [],
   "execution_count": 8
  }
 ],
 "metadata": {
  "kernelspec": {
   "display_name": "Python 3",
   "language": "python",
   "name": "python3"
  },
  "language_info": {
   "codemirror_mode": {
    "name": "ipython",
    "version": 2
   },
   "file_extension": ".py",
   "mimetype": "text/x-python",
   "name": "python",
   "nbconvert_exporter": "python",
   "pygments_lexer": "ipython2",
   "version": "2.7.6"
  }
 },
 "nbformat": 4,
 "nbformat_minor": 5
}
